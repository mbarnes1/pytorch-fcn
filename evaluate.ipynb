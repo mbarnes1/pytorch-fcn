{
 "cells": [
  {
   "cell_type": "code",
   "execution_count": null,
   "metadata": {
    "collapsed": true
   },
   "outputs": [],
   "source": [
    "os.environ['CUDA_VISIBLE_DEVICES'] = 0"
   ]
  },
  {
   "cell_type": "code",
   "execution_count": 2,
   "metadata": {
    "collapsed": true
   },
   "outputs": [],
   "source": [
    "import argparse\n",
    "import os\n",
    "import os.path as osp\n",
    "\n",
    "import fcn\n",
    "import numpy as np\n",
    "import skimage.io\n",
    "import torch\n",
    "from torch.autograd import Variable\n",
    "import torchfcn\n",
    "import tqdm"
   ]
  },
  {
   "cell_type": "code",
   "execution_count": 6,
   "metadata": {},
   "outputs": [
    {
     "name": "stderr",
     "output_type": "stream",
     "text": [
      "178kB [00:00, 1.78MB/s]"
     ]
    },
    {
     "name": "stdout",
     "output_type": "stream",
     "text": [
      "Downloading...\n",
      "From: http://drive.google.com/uc?id=0B9P1L--7Wd2vM2oya3k0Zlgtekk\n",
      "To: /Users/mbarnes1/data/models/pytorch/fcn32s_from_caffe.pth\n"
     ]
    },
    {
     "name": "stderr",
     "output_type": "stream",
     "text": [
      "545MB [10:05, 899kB/s]  \n"
     ]
    }
   ],
   "source": [
    "model_file = torchfcn.models.fcn32s.FCN32s.download()\n",
    "root = osp.expanduser('~/data/datasets')"
   ]
  },
  {
   "cell_type": "code",
   "execution_count": 7,
   "metadata": {},
   "outputs": [
    {
     "data": {
      "text/plain": [
       "'/Users/mbarnes1/data/models/pytorch/fcn32s_from_caffe.pth'"
      ]
     },
     "execution_count": 7,
     "metadata": {},
     "output_type": "execute_result"
    }
   ],
   "source": [
    "model_file"
   ]
  },
  {
   "cell_type": "markdown",
   "metadata": {},
   "source": [
    "## Load data"
   ]
  },
  {
   "cell_type": "code",
   "execution_count": 9,
   "metadata": {},
   "outputs": [],
   "source": [
    "val_loader = torch.utils.data.DataLoader(\n",
    "        torchfcn.datasets.VOC2011ClassSeg(\n",
    "            root, split='seg11valid', transform=True),\n",
    "        batch_size=1, shuffle=False,\n",
    "        num_workers=4, pin_memory=True)\n",
    "n_class = len(val_loader.dataset.class_names)"
   ]
  },
  {
   "cell_type": "markdown",
   "metadata": {},
   "source": [
    "## Load model"
   ]
  },
  {
   "cell_type": "code",
   "execution_count": 8,
   "metadata": {},
   "outputs": [
    {
     "name": "stdout",
     "output_type": "stream",
     "text": [
      "==> Loading FCN32s model file: /Users/mbarnes1/data/models/pytorch/fcn32s_from_caffe.pth\n"
     ]
    },
    {
     "data": {
      "text/plain": [
       "FCN32s(\n",
       "  (conv1_1): Conv2d (3, 64, kernel_size=(3, 3), stride=(1, 1), padding=(100, 100))\n",
       "  (relu1_1): ReLU(inplace)\n",
       "  (conv1_2): Conv2d (64, 64, kernel_size=(3, 3), stride=(1, 1), padding=(1, 1))\n",
       "  (relu1_2): ReLU(inplace)\n",
       "  (pool1): MaxPool2d(kernel_size=(2, 2), stride=(2, 2), dilation=(1, 1))\n",
       "  (conv2_1): Conv2d (64, 128, kernel_size=(3, 3), stride=(1, 1), padding=(1, 1))\n",
       "  (relu2_1): ReLU(inplace)\n",
       "  (conv2_2): Conv2d (128, 128, kernel_size=(3, 3), stride=(1, 1), padding=(1, 1))\n",
       "  (relu2_2): ReLU(inplace)\n",
       "  (pool2): MaxPool2d(kernel_size=(2, 2), stride=(2, 2), dilation=(1, 1))\n",
       "  (conv3_1): Conv2d (128, 256, kernel_size=(3, 3), stride=(1, 1), padding=(1, 1))\n",
       "  (relu3_1): ReLU(inplace)\n",
       "  (conv3_2): Conv2d (256, 256, kernel_size=(3, 3), stride=(1, 1), padding=(1, 1))\n",
       "  (relu3_2): ReLU(inplace)\n",
       "  (conv3_3): Conv2d (256, 256, kernel_size=(3, 3), stride=(1, 1), padding=(1, 1))\n",
       "  (relu3_3): ReLU(inplace)\n",
       "  (pool3): MaxPool2d(kernel_size=(2, 2), stride=(2, 2), dilation=(1, 1))\n",
       "  (conv4_1): Conv2d (256, 512, kernel_size=(3, 3), stride=(1, 1), padding=(1, 1))\n",
       "  (relu4_1): ReLU(inplace)\n",
       "  (conv4_2): Conv2d (512, 512, kernel_size=(3, 3), stride=(1, 1), padding=(1, 1))\n",
       "  (relu4_2): ReLU(inplace)\n",
       "  (conv4_3): Conv2d (512, 512, kernel_size=(3, 3), stride=(1, 1), padding=(1, 1))\n",
       "  (relu4_3): ReLU(inplace)\n",
       "  (pool4): MaxPool2d(kernel_size=(2, 2), stride=(2, 2), dilation=(1, 1))\n",
       "  (conv5_1): Conv2d (512, 512, kernel_size=(3, 3), stride=(1, 1), padding=(1, 1))\n",
       "  (relu5_1): ReLU(inplace)\n",
       "  (conv5_2): Conv2d (512, 512, kernel_size=(3, 3), stride=(1, 1), padding=(1, 1))\n",
       "  (relu5_2): ReLU(inplace)\n",
       "  (conv5_3): Conv2d (512, 512, kernel_size=(3, 3), stride=(1, 1), padding=(1, 1))\n",
       "  (relu5_3): ReLU(inplace)\n",
       "  (pool5): MaxPool2d(kernel_size=(2, 2), stride=(2, 2), dilation=(1, 1))\n",
       "  (fc6): Conv2d (512, 4096, kernel_size=(7, 7), stride=(1, 1))\n",
       "  (relu6): ReLU(inplace)\n",
       "  (drop6): Dropout2d(p=0.5)\n",
       "  (fc7): Conv2d (4096, 4096, kernel_size=(1, 1), stride=(1, 1))\n",
       "  (relu7): ReLU(inplace)\n",
       "  (drop7): Dropout2d(p=0.5)\n",
       "  (score_fr): Conv2d (4096, 21, kernel_size=(1, 1), stride=(1, 1))\n",
       "  (upscore): ConvTranspose2d (21, 21, kernel_size=(64, 64), stride=(32, 32), bias=False)\n",
       ")"
      ]
     },
     "execution_count": 8,
     "metadata": {},
     "output_type": "execute_result"
    }
   ],
   "source": [
    "if osp.basename(model_file).startswith('fcn32s'):\n",
    "    model = torchfcn.models.FCN32s(n_class=21)\n",
    "elif osp.basename(model_file).startswith('fcn16s'):\n",
    "    model = torchfcn.models.FCN16s(n_class=21)\n",
    "elif osp.basename(model_file).startswith('fcn8s'):\n",
    "    if osp.basename(model_file).startswith('fcn8s-atonce'):\n",
    "        model = torchfcn.models.FCN8sAtOnce(n_class=21)\n",
    "    else:\n",
    "        model = torchfcn.models.FCN8s(n_class=21)\n",
    "else:\n",
    "    raise ValueError\n",
    "if torch.cuda.is_available():\n",
    "    model = model.cuda()\n",
    "print('==> Loading %s model file: %s' %\n",
    "      (model.__class__.__name__, model_file))\n",
    "model_data = torch.load(model_file)\n",
    "try:\n",
    "    model.load_state_dict(model_data)\n",
    "except Exception:\n",
    "    model.load_state_dict(model_data['model_state_dict'])\n",
    "model.eval()"
   ]
  },
  {
   "cell_type": "markdown",
   "metadata": {},
   "source": [
    "## Evaluate"
   ]
  },
  {
   "cell_type": "code",
   "execution_count": 10,
   "metadata": {},
   "outputs": [
    {
     "name": "stderr",
     "output_type": "stream",
     "text": [
      "\r",
      "  0%|                                                   | 0/736 [00:00<?, ?it/s]"
     ]
    },
    {
     "ename": "AssertionError",
     "evalue": "Traceback (most recent call last):\n  File \"/Users/mbarnes1/anaconda/envs/torch/lib/python2.7/site-packages/torch/utils/data/dataloader.py\", line 64, in _pin_memory_loop\n    batch = pin_memory_batch(batch)\n  File \"/Users/mbarnes1/anaconda/envs/torch/lib/python2.7/site-packages/torch/utils/data/dataloader.py\", line 132, in pin_memory_batch\n    return [pin_memory_batch(sample) for sample in batch]\n  File \"/Users/mbarnes1/anaconda/envs/torch/lib/python2.7/site-packages/torch/utils/data/dataloader.py\", line 126, in pin_memory_batch\n    return batch.pin_memory()\n  File \"/Users/mbarnes1/anaconda/envs/torch/lib/python2.7/site-packages/torch/tensor.py\", line 82, in pin_memory\n    return type(self)().set_(storage.pin_memory()).view_as(self)\n  File \"/Users/mbarnes1/anaconda/envs/torch/lib/python2.7/site-packages/torch/storage.py\", line 83, in pin_memory\n    allocator = torch.cuda._host_allocator()\n  File \"/Users/mbarnes1/anaconda/envs/torch/lib/python2.7/site-packages/torch/cuda/__init__.py\", line 312, in _host_allocator\n    _lazy_init()\n  File \"/Users/mbarnes1/anaconda/envs/torch/lib/python2.7/site-packages/torch/cuda/__init__.py\", line 120, in _lazy_init\n    _check_driver()\n  File \"/Users/mbarnes1/anaconda/envs/torch/lib/python2.7/site-packages/torch/cuda/__init__.py\", line 55, in _check_driver\n    raise AssertionError(\"Torch not compiled with CUDA enabled\")\nAssertionError: Torch not compiled with CUDA enabled\n",
     "output_type": "error",
     "traceback": [
      "\u001b[0;31m---------------------------------------------------------------------------\u001b[0m",
      "\u001b[0;31mAssertionError\u001b[0m                            Traceback (most recent call last)",
      "\u001b[0;32m<ipython-input-10-e08fdba2bb19>\u001b[0m in \u001b[0;36m<module>\u001b[0;34m()\u001b[0m\n\u001b[1;32m      4\u001b[0m for batch_idx, (data, target) in tqdm.tqdm(enumerate(val_loader),\n\u001b[1;32m      5\u001b[0m                                            \u001b[0mtotal\u001b[0m\u001b[0;34m=\u001b[0m\u001b[0mlen\u001b[0m\u001b[0;34m(\u001b[0m\u001b[0mval_loader\u001b[0m\u001b[0;34m)\u001b[0m\u001b[0;34m,\u001b[0m\u001b[0;34m\u001b[0m\u001b[0m\n\u001b[0;32m----> 6\u001b[0;31m                                            ncols=80, leave=False):\n\u001b[0m\u001b[1;32m      7\u001b[0m     \u001b[0;32mif\u001b[0m \u001b[0mtorch\u001b[0m\u001b[0;34m.\u001b[0m\u001b[0mcuda\u001b[0m\u001b[0;34m.\u001b[0m\u001b[0mis_available\u001b[0m\u001b[0;34m(\u001b[0m\u001b[0;34m)\u001b[0m\u001b[0;34m:\u001b[0m\u001b[0;34m\u001b[0m\u001b[0m\n\u001b[1;32m      8\u001b[0m         \u001b[0mdata\u001b[0m\u001b[0;34m,\u001b[0m \u001b[0mtarget\u001b[0m \u001b[0;34m=\u001b[0m \u001b[0mdata\u001b[0m\u001b[0;34m.\u001b[0m\u001b[0mcuda\u001b[0m\u001b[0;34m(\u001b[0m\u001b[0;34m)\u001b[0m\u001b[0;34m,\u001b[0m \u001b[0mtarget\u001b[0m\u001b[0;34m.\u001b[0m\u001b[0mcuda\u001b[0m\u001b[0;34m(\u001b[0m\u001b[0;34m)\u001b[0m\u001b[0;34m\u001b[0m\u001b[0m\n",
      "\u001b[0;32m/Users/mbarnes1/anaconda/envs/torch/lib/python2.7/site-packages/tqdm/_tqdm.pyc\u001b[0m in \u001b[0;36m__iter__\u001b[0;34m(self)\u001b[0m\n\u001b[1;32m    953\u001b[0m \"\"\", fp_write=getattr(self.fp, 'write', sys.stderr.write))\n\u001b[1;32m    954\u001b[0m \u001b[0;34m\u001b[0m\u001b[0m\n\u001b[0;32m--> 955\u001b[0;31m             \u001b[0;32mfor\u001b[0m \u001b[0mobj\u001b[0m \u001b[0;32min\u001b[0m \u001b[0miterable\u001b[0m\u001b[0;34m:\u001b[0m\u001b[0;34m\u001b[0m\u001b[0m\n\u001b[0m\u001b[1;32m    956\u001b[0m                 \u001b[0;32myield\u001b[0m \u001b[0mobj\u001b[0m\u001b[0;34m\u001b[0m\u001b[0m\n\u001b[1;32m    957\u001b[0m                 \u001b[0;31m# Update and possibly print the progressbar.\u001b[0m\u001b[0;34m\u001b[0m\u001b[0;34m\u001b[0m\u001b[0m\n",
      "\u001b[0;32m/Users/mbarnes1/anaconda/envs/torch/lib/python2.7/site-packages/torch/utils/data/dataloader.pyc\u001b[0m in \u001b[0;36m__next__\u001b[0;34m(self)\u001b[0m\n\u001b[1;32m    208\u001b[0m                 \u001b[0mself\u001b[0m\u001b[0;34m.\u001b[0m\u001b[0mreorder_dict\u001b[0m\u001b[0;34m[\u001b[0m\u001b[0midx\u001b[0m\u001b[0;34m]\u001b[0m \u001b[0;34m=\u001b[0m \u001b[0mbatch\u001b[0m\u001b[0;34m\u001b[0m\u001b[0m\n\u001b[1;32m    209\u001b[0m                 \u001b[0;32mcontinue\u001b[0m\u001b[0;34m\u001b[0m\u001b[0m\n\u001b[0;32m--> 210\u001b[0;31m             \u001b[0;32mreturn\u001b[0m \u001b[0mself\u001b[0m\u001b[0;34m.\u001b[0m\u001b[0m_process_next_batch\u001b[0m\u001b[0;34m(\u001b[0m\u001b[0mbatch\u001b[0m\u001b[0;34m)\u001b[0m\u001b[0;34m\u001b[0m\u001b[0m\n\u001b[0m\u001b[1;32m    211\u001b[0m \u001b[0;34m\u001b[0m\u001b[0m\n\u001b[1;32m    212\u001b[0m     \u001b[0mnext\u001b[0m \u001b[0;34m=\u001b[0m \u001b[0m__next__\u001b[0m  \u001b[0;31m# Python 2 compatibility\u001b[0m\u001b[0;34m\u001b[0m\u001b[0m\n",
      "\u001b[0;32m/Users/mbarnes1/anaconda/envs/torch/lib/python2.7/site-packages/torch/utils/data/dataloader.pyc\u001b[0m in \u001b[0;36m_process_next_batch\u001b[0;34m(self, batch)\u001b[0m\n\u001b[1;32m    228\u001b[0m         \u001b[0mself\u001b[0m\u001b[0;34m.\u001b[0m\u001b[0m_put_indices\u001b[0m\u001b[0;34m(\u001b[0m\u001b[0;34m)\u001b[0m\u001b[0;34m\u001b[0m\u001b[0m\n\u001b[1;32m    229\u001b[0m         \u001b[0;32mif\u001b[0m \u001b[0misinstance\u001b[0m\u001b[0;34m(\u001b[0m\u001b[0mbatch\u001b[0m\u001b[0;34m,\u001b[0m \u001b[0mExceptionWrapper\u001b[0m\u001b[0;34m)\u001b[0m\u001b[0;34m:\u001b[0m\u001b[0;34m\u001b[0m\u001b[0m\n\u001b[0;32m--> 230\u001b[0;31m             \u001b[0;32mraise\u001b[0m \u001b[0mbatch\u001b[0m\u001b[0;34m.\u001b[0m\u001b[0mexc_type\u001b[0m\u001b[0;34m(\u001b[0m\u001b[0mbatch\u001b[0m\u001b[0;34m.\u001b[0m\u001b[0mexc_msg\u001b[0m\u001b[0;34m)\u001b[0m\u001b[0;34m\u001b[0m\u001b[0m\n\u001b[0m\u001b[1;32m    231\u001b[0m         \u001b[0;32mreturn\u001b[0m \u001b[0mbatch\u001b[0m\u001b[0;34m\u001b[0m\u001b[0m\n\u001b[1;32m    232\u001b[0m \u001b[0;34m\u001b[0m\u001b[0m\n",
      "\u001b[0;31mAssertionError\u001b[0m: Traceback (most recent call last):\n  File \"/Users/mbarnes1/anaconda/envs/torch/lib/python2.7/site-packages/torch/utils/data/dataloader.py\", line 64, in _pin_memory_loop\n    batch = pin_memory_batch(batch)\n  File \"/Users/mbarnes1/anaconda/envs/torch/lib/python2.7/site-packages/torch/utils/data/dataloader.py\", line 132, in pin_memory_batch\n    return [pin_memory_batch(sample) for sample in batch]\n  File \"/Users/mbarnes1/anaconda/envs/torch/lib/python2.7/site-packages/torch/utils/data/dataloader.py\", line 126, in pin_memory_batch\n    return batch.pin_memory()\n  File \"/Users/mbarnes1/anaconda/envs/torch/lib/python2.7/site-packages/torch/tensor.py\", line 82, in pin_memory\n    return type(self)().set_(storage.pin_memory()).view_as(self)\n  File \"/Users/mbarnes1/anaconda/envs/torch/lib/python2.7/site-packages/torch/storage.py\", line 83, in pin_memory\n    allocator = torch.cuda._host_allocator()\n  File \"/Users/mbarnes1/anaconda/envs/torch/lib/python2.7/site-packages/torch/cuda/__init__.py\", line 312, in _host_allocator\n    _lazy_init()\n  File \"/Users/mbarnes1/anaconda/envs/torch/lib/python2.7/site-packages/torch/cuda/__init__.py\", line 120, in _lazy_init\n    _check_driver()\n  File \"/Users/mbarnes1/anaconda/envs/torch/lib/python2.7/site-packages/torch/cuda/__init__.py\", line 55, in _check_driver\n    raise AssertionError(\"Torch not compiled with CUDA enabled\")\nAssertionError: Torch not compiled with CUDA enabled\n"
     ]
    }
   ],
   "source": [
    "## Make predictions\n",
    "visualizations = []\n",
    "label_trues, label_preds = [], []\n",
    "for batch_idx, (data, target) in tqdm.tqdm(enumerate(val_loader),\n",
    "                                           total=len(val_loader),\n",
    "                                           ncols=80, leave=False):\n",
    "    if torch.cuda.is_available():\n",
    "        data, target = data.cuda(), target.cuda()\n",
    "    data, target = Variable(data, volatile=True), Variable(target)\n",
    "    score = model(data)\n",
    "\n",
    "    imgs = data.data.cpu()\n",
    "    lbl_pred = score.data.max(1)[1].cpu().numpy()[:, :, :]\n",
    "    lbl_true = target.data.cpu()\n",
    "    for img, lt, lp in zip(imgs, lbl_true, lbl_pred):\n",
    "        img, lt = val_loader.dataset.untransform(img, lt)\n",
    "        label_trues.append(lt)\n",
    "        label_preds.append(lp)\n",
    "        if len(visualizations) < 9:\n",
    "            viz = fcn.utils.visualize_segmentation(\n",
    "                lbl_pred=lp, lbl_true=lt, img=img, n_class=n_class,\n",
    "                label_names=val_loader.dataset.class_names)\n",
    "            visualizations.append(viz)"
   ]
  },
  {
   "cell_type": "code",
   "execution_count": null,
   "metadata": {
    "collapsed": true
   },
   "outputs": [],
   "source": [
    "## Metrics\n",
    "metrics = torchfcn.utils.label_accuracy_score(\n",
    "        label_trues, label_preds, n_class=n_class)\n",
    "    metrics = np.array(metrics)\n",
    "    metrics *= 100\n",
    "    print('''\\\n",
    "Accuracy: {0}\n",
    "Accuracy Class: {1}\n",
    "Mean IU: {2}\n",
    "FWAV Accuracy: {3}'''.format(*metrics))"
   ]
  },
  {
   "cell_type": "code",
   "execution_count": null,
   "metadata": {
    "collapsed": true
   },
   "outputs": [],
   "source": [
    "## Visualization\n",
    "viz = fcn.utils.get_tile_image(visualizations)\n",
    "skimage.io.imsave('viz_evaluate.png', viz)"
   ]
  }
 ],
 "metadata": {
  "kernelspec": {
   "display_name": "Python 2",
   "language": "python",
   "name": "python2"
  },
  "language_info": {
   "codemirror_mode": {
    "name": "ipython",
    "version": 2
   },
   "file_extension": ".py",
   "mimetype": "text/x-python",
   "name": "python",
   "nbconvert_exporter": "python",
   "pygments_lexer": "ipython2",
   "version": "2.7.13"
  }
 },
 "nbformat": 4,
 "nbformat_minor": 2
}
